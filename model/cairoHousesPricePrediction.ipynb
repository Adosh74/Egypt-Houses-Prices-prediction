{
 "cells": [
  {
   "cell_type": "markdown",
   "id": "e776e41b",
   "metadata": {},
   "source": [
    "### Basic python libraries import (to handle visualizations and dataframes)"
   ]
  },
  {
   "cell_type": "code",
   "execution_count": 1,
   "id": "7e9041bf",
   "metadata": {},
   "outputs": [],
   "source": [
    "import numpy as np\n",
    "import pandas as pd\n",
    "import seaborn as sns\n",
    "import matplotlib.pyplot as plt\n",
    "%matplotlib inline\n",
    "import warnings\n",
    "warnings.filterwarnings(\"ignore\")\n",
    "sns.set(style=\"darkgrid\",font_scale=1.5)\n",
    "pd.set_option(\"display.max.columns\",None)"
   ]
  },
  {
   "cell_type": "markdown",
   "id": "ccfd456a",
   "metadata": {},
   "source": [
    "###  Transformations imports "
   ]
  },
  {
   "cell_type": "code",
   "execution_count": 2,
   "id": "24118848",
   "metadata": {},
   "outputs": [],
   "source": [
    "from scipy import stats\n",
    "from scipy.stats import skew\n",
    "from scipy.special import boxcox1p\n",
    "from scipy.stats import boxcox_normmax"
   ]
  },
  {
   "cell_type": "markdown",
   "id": "95815b62",
   "metadata": {},
   "source": [
    "### Machine learning models imports"
   ]
  },
  {
   "cell_type": "code",
   "execution_count": 3,
   "id": "a01dfead",
   "metadata": {},
   "outputs": [],
   "source": [
    "from sklearn.model_selection import train_test_split\n",
    "from sklearn.linear_model import LinearRegression\n",
    "from sklearn.tree import DecisionTreeRegressor\n",
    "from sklearn.ensemble import RandomForestRegressor\n",
    "from sklearn.preprocessing import OneHotEncoder\n",
    "from sklearn.metrics import mean_squared_error, r2_score\n",
    "from sklearn.model_selection import GridSearchCV"
   ]
  },
  {
   "cell_type": "markdown",
   "id": "543e0752",
   "metadata": {},
   "source": [
    "### Data pre-processing "
   ]
  },
  {
   "cell_type": "code",
   "execution_count": 4,
   "id": "e50af10f",
   "metadata": {},
   "outputs": [],
   "source": [
    "from sklearn.preprocessing import StandardScaler\n",
    "from sklearn.metrics import accuracy_score"
   ]
  },
  {
   "cell_type": "markdown",
   "id": "eb55c616",
   "metadata": {},
   "source": [
    "### Pre-processing"
   ]
  },
  {
   "cell_type": "code",
   "execution_count": 5,
   "id": "fb2438e5",
   "metadata": {},
   "outputs": [],
   "source": [
    "from sklearn import preprocessing"
   ]
  },
  {
   "cell_type": "markdown",
   "id": "f5f82aaa",
   "metadata": {},
   "source": [
    "### Math"
   ]
  },
  {
   "cell_type": "code",
   "execution_count": 6,
   "id": "dc985d34",
   "metadata": {},
   "outputs": [],
   "source": [
    "import math"
   ]
  },
  {
   "cell_type": "markdown",
   "id": "0f89a824",
   "metadata": {},
   "source": [
    "## Loading The Data "
   ]
  },
  {
   "cell_type": "code",
   "execution_count": 7,
   "id": "591feae1",
   "metadata": {},
   "outputs": [
    {
     "data": {
      "text/html": [
       "<div>\n",
       "<style scoped>\n",
       "    .dataframe tbody tr th:only-of-type {\n",
       "        vertical-align: middle;\n",
       "    }\n",
       "\n",
       "    .dataframe tbody tr th {\n",
       "        vertical-align: top;\n",
       "    }\n",
       "\n",
       "    .dataframe thead th {\n",
       "        text-align: right;\n",
       "    }\n",
       "</style>\n",
       "<table border=\"1\" class=\"dataframe\">\n",
       "  <thead>\n",
       "    <tr style=\"text-align: right;\">\n",
       "      <th></th>\n",
       "      <th>type</th>\n",
       "      <th>title</th>\n",
       "      <th>location</th>\n",
       "      <th>bedroom</th>\n",
       "      <th>bathroom</th>\n",
       "      <th>size_sqm</th>\n",
       "      <th>price</th>\n",
       "    </tr>\n",
       "  </thead>\n",
       "  <tbody>\n",
       "    <tr>\n",
       "      <th>0</th>\n",
       "      <td>Duplex</td>\n",
       "      <td>Prime Location Duplex Fully Finished With A\\C</td>\n",
       "      <td>Park View, North Investors Area, New Cairo Cit...</td>\n",
       "      <td>4</td>\n",
       "      <td>4</td>\n",
       "      <td>345</td>\n",
       "      <td>6,850,000</td>\n",
       "    </tr>\n",
       "    <tr>\n",
       "      <th>1</th>\n",
       "      <td>Villa</td>\n",
       "      <td>Town house resale at Mivida Emaar with best price</td>\n",
       "      <td>Mivida, 5th Settlement Compounds, The 5th Sett...</td>\n",
       "      <td>3</td>\n",
       "      <td>3</td>\n",
       "      <td>285</td>\n",
       "      <td>10,000,000</td>\n",
       "    </tr>\n",
       "    <tr>\n",
       "      <th>2</th>\n",
       "      <td>Apartment</td>\n",
       "      <td>Lake View Residence - Apartment | Prime Location</td>\n",
       "      <td>Lake View Residence, 5th Settlement Compounds,...</td>\n",
       "      <td>3</td>\n",
       "      <td>3</td>\n",
       "      <td>210</td>\n",
       "      <td>5,700,000</td>\n",
       "    </tr>\n",
       "    <tr>\n",
       "      <th>3</th>\n",
       "      <td>Townhouse</td>\n",
       "      <td>Best Penthouse for sale in villette ( sky conds )</td>\n",
       "      <td>La Vista City, New Capital Compounds, New Capi...</td>\n",
       "      <td>4</td>\n",
       "      <td>4</td>\n",
       "      <td>230</td>\n",
       "      <td>7,510,000</td>\n",
       "    </tr>\n",
       "    <tr>\n",
       "      <th>4</th>\n",
       "      <td>Penthouse</td>\n",
       "      <td>2nd Floor | Fully Finished | Lowest Price |Par...</td>\n",
       "      <td>Villette, 5th Settlement Compounds, The 5th Se...</td>\n",
       "      <td>5</td>\n",
       "      <td>6</td>\n",
       "      <td>284</td>\n",
       "      <td>8,511,300</td>\n",
       "    </tr>\n",
       "  </tbody>\n",
       "</table>\n",
       "</div>"
      ],
      "text/plain": [
       "        type                                              title  \\\n",
       "0     Duplex     Prime Location Duplex Fully Finished With A\\C    \n",
       "1      Villa  Town house resale at Mivida Emaar with best price   \n",
       "2  Apartment   Lake View Residence - Apartment | Prime Location   \n",
       "3  Townhouse  Best Penthouse for sale in villette ( sky conds )   \n",
       "4  Penthouse  2nd Floor | Fully Finished | Lowest Price |Par...   \n",
       "\n",
       "                                            location bedroom  bathroom  \\\n",
       "0  Park View, North Investors Area, New Cairo Cit...       4         4   \n",
       "1  Mivida, 5th Settlement Compounds, The 5th Sett...       3         3   \n",
       "2  Lake View Residence, 5th Settlement Compounds,...       3         3   \n",
       "3  La Vista City, New Capital Compounds, New Capi...       4         4   \n",
       "4  Villette, 5th Settlement Compounds, The 5th Se...       5         6   \n",
       "\n",
       "  size_sqm       price  \n",
       "0      345   6,850,000  \n",
       "1      285  10,000,000  \n",
       "2      210   5,700,000  \n",
       "3      230   7,510,000  \n",
       "4      284   8,511,300  "
      ]
     },
     "execution_count": 7,
     "metadata": {},
     "output_type": "execute_result"
    }
   ],
   "source": [
    "df_main = pd.read_csv(\"./properties.csv\")\n",
    "df_main.head()"
   ]
  },
  {
   "cell_type": "markdown",
   "id": "a7a75211",
   "metadata": {},
   "source": [
    "## Data Cleaning"
   ]
  },
  {
   "cell_type": "code",
   "execution_count": 8,
   "id": "63b1e89f",
   "metadata": {},
   "outputs": [
    {
     "name": "stdout",
     "output_type": "stream",
     "text": [
      "<class 'pandas.core.frame.DataFrame'>\n",
      "RangeIndex: 11418 entries, 0 to 11417\n",
      "Data columns (total 7 columns):\n",
      " #   Column    Non-Null Count  Dtype \n",
      "---  ------    --------------  ----- \n",
      " 0   type      11418 non-null  object\n",
      " 1   title     11418 non-null  object\n",
      " 2   location  11418 non-null  object\n",
      " 3   bedroom   11418 non-null  object\n",
      " 4   bathroom  11418 non-null  int64 \n",
      " 5   size_sqm  11418 non-null  object\n",
      " 6   price     11418 non-null  object\n",
      "dtypes: int64(1), object(6)\n",
      "memory usage: 624.5+ KB\n"
     ]
    },
    {
     "data": {
      "text/html": [
       "<div>\n",
       "<style scoped>\n",
       "    .dataframe tbody tr th:only-of-type {\n",
       "        vertical-align: middle;\n",
       "    }\n",
       "\n",
       "    .dataframe tbody tr th {\n",
       "        vertical-align: top;\n",
       "    }\n",
       "\n",
       "    .dataframe thead th {\n",
       "        text-align: right;\n",
       "    }\n",
       "</style>\n",
       "<table border=\"1\" class=\"dataframe\">\n",
       "  <thead>\n",
       "    <tr style=\"text-align: right;\">\n",
       "      <th></th>\n",
       "      <th>type</th>\n",
       "      <th>title</th>\n",
       "      <th>location</th>\n",
       "      <th>bedroom</th>\n",
       "      <th>bathroom</th>\n",
       "      <th>size_sqm</th>\n",
       "      <th>price</th>\n",
       "    </tr>\n",
       "  </thead>\n",
       "  <tbody>\n",
       "    <tr>\n",
       "      <th>0</th>\n",
       "      <td>Duplex</td>\n",
       "      <td>Prime Location Duplex Fully Finished With A\\C</td>\n",
       "      <td>Park View, North Investors Area, New Cairo Cit...</td>\n",
       "      <td>4</td>\n",
       "      <td>4</td>\n",
       "      <td>345</td>\n",
       "      <td>6,850,000</td>\n",
       "    </tr>\n",
       "    <tr>\n",
       "      <th>1</th>\n",
       "      <td>Villa</td>\n",
       "      <td>Town house resale at Mivida Emaar with best price</td>\n",
       "      <td>Mivida, 5th Settlement Compounds, The 5th Sett...</td>\n",
       "      <td>3</td>\n",
       "      <td>3</td>\n",
       "      <td>285</td>\n",
       "      <td>10,000,000</td>\n",
       "    </tr>\n",
       "    <tr>\n",
       "      <th>2</th>\n",
       "      <td>Apartment</td>\n",
       "      <td>Lake View Residence - Apartment | Prime Location</td>\n",
       "      <td>Lake View Residence, 5th Settlement Compounds,...</td>\n",
       "      <td>3</td>\n",
       "      <td>3</td>\n",
       "      <td>210</td>\n",
       "      <td>5,700,000</td>\n",
       "    </tr>\n",
       "    <tr>\n",
       "      <th>3</th>\n",
       "      <td>Townhouse</td>\n",
       "      <td>Best Penthouse for sale in villette ( sky conds )</td>\n",
       "      <td>La Vista City, New Capital Compounds, New Capi...</td>\n",
       "      <td>4</td>\n",
       "      <td>4</td>\n",
       "      <td>230</td>\n",
       "      <td>7,510,000</td>\n",
       "    </tr>\n",
       "    <tr>\n",
       "      <th>4</th>\n",
       "      <td>Penthouse</td>\n",
       "      <td>2nd Floor | Fully Finished | Lowest Price |Par...</td>\n",
       "      <td>Villette, 5th Settlement Compounds, The 5th Se...</td>\n",
       "      <td>5</td>\n",
       "      <td>6</td>\n",
       "      <td>284</td>\n",
       "      <td>8,511,300</td>\n",
       "    </tr>\n",
       "  </tbody>\n",
       "</table>\n",
       "</div>"
      ],
      "text/plain": [
       "        type                                              title  \\\n",
       "0     Duplex     Prime Location Duplex Fully Finished With A\\C    \n",
       "1      Villa  Town house resale at Mivida Emaar with best price   \n",
       "2  Apartment   Lake View Residence - Apartment | Prime Location   \n",
       "3  Townhouse  Best Penthouse for sale in villette ( sky conds )   \n",
       "4  Penthouse  2nd Floor | Fully Finished | Lowest Price |Par...   \n",
       "\n",
       "                                            location bedroom  bathroom  \\\n",
       "0  Park View, North Investors Area, New Cairo Cit...       4         4   \n",
       "1  Mivida, 5th Settlement Compounds, The 5th Sett...       3         3   \n",
       "2  Lake View Residence, 5th Settlement Compounds,...       3         3   \n",
       "3  La Vista City, New Capital Compounds, New Capi...       4         4   \n",
       "4  Villette, 5th Settlement Compounds, The 5th Se...       5         6   \n",
       "\n",
       "  size_sqm       price  \n",
       "0      345   6,850,000  \n",
       "1      285  10,000,000  \n",
       "2      210   5,700,000  \n",
       "3      230   7,510,000  \n",
       "4      284   8,511,300  "
      ]
     },
     "execution_count": 8,
     "metadata": {},
     "output_type": "execute_result"
    }
   ],
   "source": [
    "df_main.info()\n",
    "df_main.head()"
   ]
  },
  {
   "cell_type": "markdown",
   "id": "09802f88",
   "metadata": {},
   "source": [
    "### Check Nulls"
   ]
  },
  {
   "cell_type": "code",
   "execution_count": 9,
   "id": "f59ff75a",
   "metadata": {},
   "outputs": [
    {
     "name": "stdout",
     "output_type": "stream",
     "text": [
      "          Train % of Missing Values\n",
      "type                            0.0\n",
      "title                           0.0\n",
      "location                        0.0\n",
      "bedroom                         0.0\n",
      "bathroom                        0.0\n",
      "size_sqm                        0.0\n",
      "price                           0.0\n"
     ]
    }
   ],
   "source": [
    "null_array = round(df_main.isnull().sum()/len(df_main)*100,2).sort_values().to_frame().rename(columns= {0:\"Train % of Missing Values\"})\n",
    "print(null_array, end='\\n')"
   ]
  },
  {
   "cell_type": "markdown",
   "id": "73f1bb7a",
   "metadata": {},
   "source": [
    "### Check unique values"
   ]
  },
  {
   "cell_type": "code",
   "execution_count": 14,
   "id": "a66f9612",
   "metadata": {},
   "outputs": [
    {
     "name": "stdout",
     "output_type": "stream",
     "text": [
      "Value counts for column\n",
      " 'type':/nApartment          5848\n",
      "Villa              2845\n",
      "Townhouse           858\n",
      "Twin House          601\n",
      "Duplex              568\n",
      "Penthouse           448\n",
      "iVilla              199\n",
      "Hotel Apartment      34\n",
      "Chalet               14\n",
      "Compound              3\n",
      "Name: type, dtype: int64\n",
      "\n",
      "----------------------\n",
      "\n",
      "Value counts for column\n",
      " 'title':/nVilla for sale In Lake View L:600 BUE:550 price18M                 14\n",
      "STANDALONE in Palm Hills Katameya EX.PK2 For Sale                  13\n",
      "2 bedrooms|2 bath|Terrace|with disc                                13\n",
      "3 bedrooms|7 years install|Ready to move|Disc 12%                  12\n",
      "Move Now to Standalone Villa with 5% DP over 8 years Sodic East     9\n",
      "                                                                   ..\n",
      "Pay Only 5% DP | Over 9 Years by Tatweer Misr                       1\n",
      "Apartment 88 m fully finished without over loading                  1\n",
      "Penthouse In Katameya Plaza Sodic Fully Finished                    1\n",
      "Penthouse for sale in Katamya Plaza - sodic                         1\n",
      "Very prime location penthouse 275m for sale                         1\n",
      "Name: title, Length: 9941, dtype: int64\n",
      "\n",
      "----------------------\n",
      "\n",
      "Value counts for column\n",
      " 'location':/nMadinaty, Cairo                                                                                 660\n",
      "Hyde Park, 5th Settlement Compounds, The 5th Settlement, New Cairo City, Cairo                  625\n",
      "Mivida, 5th Settlement Compounds, The 5th Settlement, New Cairo City, Cairo                     595\n",
      "Villette, 5th Settlement Compounds, The 5th Settlement, New Cairo City, Cairo                   381\n",
      "Mountain View Hyde Park, 5th Settlement Compounds, The 5th Settlement, New Cairo City, Cairo    364\n",
      "                                                                                               ... \n",
      "11th Neighborhood, 3rd District East, Shorouk City, Cairo                                         1\n",
      "Zizinia Gardens, Ext North Inves Area, New Cairo City, Cairo                                      1\n",
      "Al Waha St., 4th Neighborhood, 3rd District West, Shorouk City, Cairo                             1\n",
      "Tijan, Zahraa El Maadi, Hay El Maadi, Cairo                                                       1\n",
      "Rehab City Second Phase, Al Rehab, New Cairo City, Cairo                                          1\n",
      "Name: location, Length: 803, dtype: int64\n",
      "\n",
      "----------------------\n",
      "\n",
      "Value counts for column\n",
      " 'bedroom':/n3         5632\n",
      "4         2482\n",
      "2         1473\n",
      "5          993\n",
      "6          378\n",
      "8          185\n",
      "1          140\n",
      "7           97\n",
      "Studio      37\n",
      "{0}          1\n",
      "Name: bedroom, dtype: int64\n",
      "\n",
      "----------------------\n",
      "\n",
      "Value counts for column\n",
      " 'bathroom':/n3    4446\n",
      "2    2499\n",
      "4    2399\n",
      "5     956\n",
      "1     388\n",
      "6     384\n",
      "8     180\n",
      "7     166\n",
      "Name: bathroom, dtype: int64\n",
      "\n",
      "----------------------\n",
      "\n",
      "Value counts for column\n",
      " 'size_sqm':/n200      279\n",
      "160      275\n",
      "220      188\n",
      "300      188\n",
      "165      168\n",
      "        ... \n",
      "649        1\n",
      "463        1\n",
      "973        1\n",
      "1,832      1\n",
      "719        1\n",
      "Name: size_sqm, Length: 718, dtype: int64\n",
      "\n",
      "----------------------\n",
      "\n",
      "Value counts for column\n",
      " 'price':/nAsk           412\n",
      "2,500,000     174\n",
      "3,000,000     168\n",
      "3,500,000     154\n",
      "4,000,000     131\n",
      "             ... \n",
      "18,500,001      1\n",
      "1,247,000       1\n",
      "6,558,000       1\n",
      "2,372,031       1\n",
      "4,554,066       1\n",
      "Name: price, Length: 2497, dtype: int64\n",
      "\n",
      "----------------------\n",
      "\n"
     ]
    }
   ],
   "source": [
    "for column in df_main.columns:\n",
    "    print(f\"Value counts for column\\n '{column}':\", end='/n')\n",
    "    print(df_main[column].value_counts())\n",
    "    print(\"\\n----------------------\\n\")"
   ]
  },
  {
   "cell_type": "code",
   "execution_count": null,
   "id": "6aee008b",
   "metadata": {},
   "outputs": [],
   "source": []
  }
 ],
 "metadata": {
  "kernelspec": {
   "display_name": "Python 3 (ipykernel)",
   "language": "python",
   "name": "python3"
  },
  "language_info": {
   "codemirror_mode": {
    "name": "ipython",
    "version": 3
   },
   "file_extension": ".py",
   "mimetype": "text/x-python",
   "name": "python",
   "nbconvert_exporter": "python",
   "pygments_lexer": "ipython3",
   "version": "3.9.12"
  }
 },
 "nbformat": 4,
 "nbformat_minor": 5
}
