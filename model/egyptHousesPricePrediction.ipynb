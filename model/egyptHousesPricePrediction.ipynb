{
 "cells": [
  {
   "cell_type": "code",
   "execution_count": 1,
   "id": "0fba6964",
   "metadata": {},
   "outputs": [],
   "source": [
    "import numpy as np # linear algebra\n",
    "import pandas as pd # data processing, CSV file I/O (e.g. pd.read_csv)"
   ]
  },
  {
   "cell_type": "markdown",
   "id": "7327e355",
   "metadata": {},
   "source": [
    "#### Importing Libraries"
   ]
  },
  {
   "cell_type": "code",
   "execution_count": 2,
   "id": "b4c2d3ef",
   "metadata": {
    "scrolled": true
   },
   "outputs": [],
   "source": [
    "import pandas as pd\n",
    "import numpy as np\n",
    "import matplotlib.pyplot as plt\n",
    "import seaborn as sns\n",
    "import plotly.express as px\n",
    "from sklearn.metrics import accuracy_score, confusion_matrix, classification_report\n",
    "# from yellowbrick.classifier import ConfusionMatrix\n",
    "from sklearn.tree import DecisionTreeClassifier\n",
    "from sklearn.metrics import r2_score\n",
    "from sklearn.metrics import mean_absolute_error, mean_squared_error"
   ]
  },
  {
   "cell_type": "markdown",
   "id": "c6b013e4",
   "metadata": {},
   "source": [
    "##### Reading Dataset"
   ]
  },
  {
   "cell_type": "code",
   "execution_count": 3,
   "id": "7e17880c",
   "metadata": {},
   "outputs": [],
   "source": [
    "df = pd.read_csv('./Egypt_Houses_Price.csv', sep = ',')"
   ]
  },
  {
   "cell_type": "markdown",
   "id": "3a812253",
   "metadata": {},
   "source": [
    "#### Show head rows of data and info"
   ]
  },
  {
   "cell_type": "code",
   "execution_count": 4,
   "id": "80206529",
   "metadata": {},
   "outputs": [
    {
     "data": {
      "text/html": [
       "<div>\n",
       "<style scoped>\n",
       "    .dataframe tbody tr th:only-of-type {\n",
       "        vertical-align: middle;\n",
       "    }\n",
       "\n",
       "    .dataframe tbody tr th {\n",
       "        vertical-align: top;\n",
       "    }\n",
       "\n",
       "    .dataframe thead th {\n",
       "        text-align: right;\n",
       "    }\n",
       "</style>\n",
       "<table border=\"1\" class=\"dataframe\">\n",
       "  <thead>\n",
       "    <tr style=\"text-align: right;\">\n",
       "      <th></th>\n",
       "      <th>Type</th>\n",
       "      <th>Price</th>\n",
       "      <th>Bedrooms</th>\n",
       "      <th>Bathrooms</th>\n",
       "      <th>Area</th>\n",
       "      <th>Furnished</th>\n",
       "      <th>Level</th>\n",
       "      <th>Compound</th>\n",
       "      <th>Payment_Option</th>\n",
       "      <th>Delivery_Date</th>\n",
       "      <th>Delivery_Term</th>\n",
       "      <th>City</th>\n",
       "    </tr>\n",
       "  </thead>\n",
       "  <tbody>\n",
       "    <tr>\n",
       "      <th>0</th>\n",
       "      <td>Duplex</td>\n",
       "      <td>4000000</td>\n",
       "      <td>3.0</td>\n",
       "      <td>3.0</td>\n",
       "      <td>400.0</td>\n",
       "      <td>No</td>\n",
       "      <td>7</td>\n",
       "      <td>Unknown</td>\n",
       "      <td>Cash</td>\n",
       "      <td>Ready to move</td>\n",
       "      <td>Finished</td>\n",
       "      <td>Nasr City</td>\n",
       "    </tr>\n",
       "    <tr>\n",
       "      <th>1</th>\n",
       "      <td>Apartment</td>\n",
       "      <td>4000000</td>\n",
       "      <td>3.0</td>\n",
       "      <td>3.0</td>\n",
       "      <td>160.0</td>\n",
       "      <td>No</td>\n",
       "      <td>10+</td>\n",
       "      <td>Unknown</td>\n",
       "      <td>Cash</td>\n",
       "      <td>Ready to move</td>\n",
       "      <td>Finished</td>\n",
       "      <td>Camp Caesar</td>\n",
       "    </tr>\n",
       "    <tr>\n",
       "      <th>2</th>\n",
       "      <td>Apartment</td>\n",
       "      <td>2250000</td>\n",
       "      <td>3.0</td>\n",
       "      <td>2.0</td>\n",
       "      <td>165.0</td>\n",
       "      <td>No</td>\n",
       "      <td>1</td>\n",
       "      <td>Unknown</td>\n",
       "      <td>Cash</td>\n",
       "      <td>Ready to move</td>\n",
       "      <td>Finished</td>\n",
       "      <td>Smoha</td>\n",
       "    </tr>\n",
       "    <tr>\n",
       "      <th>3</th>\n",
       "      <td>Apartment</td>\n",
       "      <td>1900000</td>\n",
       "      <td>3.0</td>\n",
       "      <td>2.0</td>\n",
       "      <td>230.0</td>\n",
       "      <td>No</td>\n",
       "      <td>10</td>\n",
       "      <td>Unknown</td>\n",
       "      <td>Cash</td>\n",
       "      <td>Ready to move</td>\n",
       "      <td>Finished</td>\n",
       "      <td>Nasr City</td>\n",
       "    </tr>\n",
       "    <tr>\n",
       "      <th>4</th>\n",
       "      <td>Apartment</td>\n",
       "      <td>5800000</td>\n",
       "      <td>2.0</td>\n",
       "      <td>3.0</td>\n",
       "      <td>160.0</td>\n",
       "      <td>No</td>\n",
       "      <td>Ground</td>\n",
       "      <td>Eastown</td>\n",
       "      <td>Cash</td>\n",
       "      <td>Ready to move</td>\n",
       "      <td>Semi Finished</td>\n",
       "      <td>New Cairo - El Tagamoa</td>\n",
       "    </tr>\n",
       "  </tbody>\n",
       "</table>\n",
       "</div>"
      ],
      "text/plain": [
       "        Type    Price Bedrooms Bathrooms   Area Furnished   Level Compound  \\\n",
       "0     Duplex  4000000      3.0       3.0  400.0        No       7  Unknown   \n",
       "1  Apartment  4000000      3.0       3.0  160.0        No     10+  Unknown   \n",
       "2  Apartment  2250000      3.0       2.0  165.0        No       1  Unknown   \n",
       "3  Apartment  1900000      3.0       2.0  230.0        No      10  Unknown   \n",
       "4  Apartment  5800000      2.0       3.0  160.0        No  Ground  Eastown   \n",
       "\n",
       "  Payment_Option  Delivery_Date  Delivery_Term                    City  \n",
       "0           Cash  Ready to move       Finished               Nasr City  \n",
       "1           Cash  Ready to move       Finished             Camp Caesar  \n",
       "2           Cash  Ready to move       Finished                   Smoha  \n",
       "3           Cash  Ready to move       Finished               Nasr City  \n",
       "4           Cash  Ready to move  Semi Finished  New Cairo - El Tagamoa  "
      ]
     },
     "execution_count": 4,
     "metadata": {},
     "output_type": "execute_result"
    }
   ],
   "source": [
    "df.head()"
   ]
  },
  {
   "cell_type": "code",
   "execution_count": 5,
   "id": "80d5a0f4",
   "metadata": {},
   "outputs": [
    {
     "name": "stdout",
     "output_type": "stream",
     "text": [
      "<class 'pandas.core.frame.DataFrame'>\n",
      "RangeIndex: 27361 entries, 0 to 27360\n",
      "Data columns (total 12 columns):\n",
      " #   Column          Non-Null Count  Dtype \n",
      "---  ------          --------------  ----- \n",
      " 0   Type            27361 non-null  object\n",
      " 1   Price           27359 non-null  object\n",
      " 2   Bedrooms        27158 non-null  object\n",
      " 3   Bathrooms       27190 non-null  object\n",
      " 4   Area            26890 non-null  object\n",
      " 5   Furnished       27361 non-null  object\n",
      " 6   Level           27361 non-null  object\n",
      " 7   Compound        27361 non-null  object\n",
      " 8   Payment_Option  27361 non-null  object\n",
      " 9   Delivery_Date   27361 non-null  object\n",
      " 10  Delivery_Term   27361 non-null  object\n",
      " 11  City            27361 non-null  object\n",
      "dtypes: object(12)\n",
      "memory usage: 2.5+ MB\n"
     ]
    }
   ],
   "source": [
    "df.info()"
   ]
  },
  {
   "cell_type": "markdown",
   "id": "406675f3",
   "metadata": {},
   "source": [
    "#### Sum the outliner in data"
   ]
  },
  {
   "cell_type": "code",
   "execution_count": 6,
   "id": "9108933b",
   "metadata": {},
   "outputs": [
    {
     "data": {
      "text/plain": [
       "Type                0\n",
       "Price               2\n",
       "Bedrooms          203\n",
       "Bathrooms         171\n",
       "Area              471\n",
       "Furnished           0\n",
       "Level               0\n",
       "Compound            0\n",
       "Payment_Option      0\n",
       "Delivery_Date       0\n",
       "Delivery_Term       0\n",
       "City                0\n",
       "dtype: int64"
      ]
     },
     "execution_count": 6,
     "metadata": {},
     "output_type": "execute_result"
    }
   ],
   "source": [
    "df.isnull().sum()"
   ]
  },
  {
   "cell_type": "code",
   "execution_count": 7,
   "id": "5d86d95a",
   "metadata": {},
   "outputs": [
    {
     "data": {
      "text/plain": [
       "Type              object\n",
       "Price             object\n",
       "Bedrooms          object\n",
       "Bathrooms         object\n",
       "Area              object\n",
       "Furnished         object\n",
       "Level             object\n",
       "Compound          object\n",
       "Payment_Option    object\n",
       "Delivery_Date     object\n",
       "Delivery_Term     object\n",
       "City              object\n",
       "dtype: object"
      ]
     },
     "execution_count": 7,
     "metadata": {},
     "output_type": "execute_result"
    }
   ],
   "source": [
    "df.dtypes"
   ]
  },
  {
   "cell_type": "markdown",
   "id": "5f7075ac",
   "metadata": {},
   "source": [
    "## Data preprocessing "
   ]
  },
  {
   "cell_type": "code",
   "execution_count": 8,
   "id": "fbc9446d",
   "metadata": {},
   "outputs": [],
   "source": [
    "import missingno as msno"
   ]
  },
  {
   "cell_type": "code",
   "execution_count": 9,
   "id": "ddd1222f",
   "metadata": {},
   "outputs": [
    {
     "data": {
      "text/plain": [
       "<AxesSubplot:>"
      ]
     },
     "execution_count": 9,
     "metadata": {},
     "output_type": "execute_result"
    },
    {
     "data": {
      "image/png": "[encoded data removed]",
      "text/plain": [
       "<Figure size 1800x720 with 3 Axes>"
      ]
     },
     "metadata": {
      "needs_background": "light"
     },
     "output_type": "display_data"
    }
   ],
   "source": [
    "msno.bar(df, sort='ascending')"
   ]
  },
  {
   "cell_type": "code",
   "execution_count": 10,
   "id": "9ff37061",
   "metadata": {},
   "outputs": [],
   "source": [
    "df = df[df['Bathrooms'] != 'Unknown']"
   ]
  },
  {
   "cell_type": "code",
   "execution_count": 11,
   "id": "128bfd4a",
   "metadata": {},
   "outputs": [],
   "source": [
    "df = df[df['Price'] != 'Unknown']"
   ]
  },
  {
   "cell_type": "code",
   "execution_count": 12,
   "id": "c822e57e",
   "metadata": {},
   "outputs": [
    {
     "data": {
      "text/plain": [
       "0        3.0\n",
       "1        3.0\n",
       "2        2.0\n",
       "3        2.0\n",
       "4        3.0\n",
       "        ... \n",
       "27356    2.0\n",
       "27357    3.0\n",
       "27358    4.0\n",
       "27359    4.0\n",
       "27360    5.0\n",
       "Name: Bathrooms, Length: 27324, dtype: object"
      ]
     },
     "execution_count": 12,
     "metadata": {},
     "output_type": "execute_result"
    }
   ],
   "source": [
    "df['Area'].replace('Unknown', np.nan)\n",
    "df['Bedrooms'].replace('Unknown', np.nan)\n",
    "df['Bathrooms'].replace('Unknown', np.nan)"
   ]
  },
  {
   "cell_type": "code",
   "execution_count": 13,
   "id": "7a2facc6",
   "metadata": {},
   "outputs": [
    {
     "data": {
      "text/plain": [
       "Type                0\n",
       "Price               2\n",
       "Bedrooms          203\n",
       "Bathrooms         171\n",
       "Area              471\n",
       "Furnished           0\n",
       "Level               0\n",
       "Compound            0\n",
       "Payment_Option      0\n",
       "Delivery_Date       0\n",
       "Delivery_Term       0\n",
       "City                0\n",
       "dtype: int64"
      ]
     },
     "execution_count": 13,
     "metadata": {},
     "output_type": "execute_result"
    }
   ],
   "source": [
    "df.isnull().sum()"
   ]
  },
  {
   "cell_type": "code",
   "execution_count": 14,
   "id": "73244742",
   "metadata": {},
   "outputs": [],
   "source": [
    "df['Bedrooms'] = df['Bedrooms'].replace('10+', '11')\n",
    "df['Bathrooms'] = df['Bathrooms'].replace('10+', '11')"
   ]
  },
  {
   "cell_type": "code",
   "execution_count": 15,
   "id": "7036c641",
   "metadata": {},
   "outputs": [],
   "source": [
    "df['Area'] = df['Area'].astype(float)\n",
    "df['Price'] = df['Price'].astype(float)\n",
    "df['Bedrooms'] = df['Bedrooms'].astype(float)\n",
    "df['Bathrooms'] = df['Bathrooms'].astype(float)"
   ]
  },
  {
   "cell_type": "code",
   "execution_count": 16,
   "id": "39f8a0e0",
   "metadata": {},
   "outputs": [],
   "source": [
    "df['Area']=df['Area'].fillna(df['Area'].mean())\n",
    "df['Price']=df['Price'].fillna(df['Price'].mean())\n",
    "df['Bedrooms']=df['Bedrooms'].fillna(df['Bedrooms'].mean())\n",
    "df['Bathrooms']=df['Bathrooms'].fillna(df['Bathrooms'].mean())"
   ]
  },
  {
   "cell_type": "code",
   "execution_count": 17,
   "id": "92bbeb3a",
   "metadata": {},
   "outputs": [
    {
     "data": {
      "text/plain": [
       "Type              0\n",
       "Price             0\n",
       "Bedrooms          0\n",
       "Bathrooms         0\n",
       "Area              0\n",
       "Furnished         0\n",
       "Level             0\n",
       "Compound          0\n",
       "Payment_Option    0\n",
       "Delivery_Date     0\n",
       "Delivery_Term     0\n",
       "City              0\n",
       "dtype: int64"
      ]
     },
     "execution_count": 17,
     "metadata": {},
     "output_type": "execute_result"
    }
   ],
   "source": [
    "df.isnull().sum()"
   ]
  },
  {
   "cell_type": "code",
   "execution_count": 18,
   "id": "0ab11254",
   "metadata": {},
   "outputs": [],
   "source": [
    "furnished = len(df[df['Furnished'] == 'Unknown']) / len(df)\n",
    "level = len(df[df['Level'] == 'Unknown']) / len(df)\n",
    "compound = len(df[df['Compound'] == 'Unknown']) / len(df)\n",
    "Payment_Option = len(df[df['Payment_Option'] == 'Unknown']) / len(df)\n",
    "Delivery_Date = len(df[df['Delivery_Date'] == 'Unknown']) / len(df)\n",
    "Delivery_Term = len(df[df['Delivery_Term'] == 'Unknown']) / len(df)\n",
    "City = len(df[df['City'] == 'Unknown']) / len(df)"
   ]
  },
  {
   "cell_type": "code",
   "execution_count": 19,
   "id": "d49d89d2",
   "metadata": {},
   "outputs": [
    {
     "name": "stdout",
     "output_type": "stream",
     "text": [
      "Furnished:  0.3107890499194847\n",
      "Level:  0.3806909676474894\n",
      "Compound:  0.4037476211389255\n",
      "Payment_Option:  0.0\n",
      "Delivery_Date:  0.36861367296149905\n",
      "Delivery_Term:  0.0\n",
      "City:  0.0\n"
     ]
    }
   ],
   "source": [
    "print('Furnished: ', furnished)\n",
    "print('Level: ',level)\n",
    "print('Compound: ',compound)\n",
    "print('Payment_Option: ',Payment_Option)\n",
    "print('Delivery_Date: ',Delivery_Date)\n",
    "print('Delivery_Term: ',Delivery_Term)\n",
    "print('City: ',City)"
   ]
  },
  {
   "cell_type": "code",
   "execution_count": 20,
   "id": "314c2a7b",
   "metadata": {},
   "outputs": [
    {
     "name": "stderr",
     "output_type": "stream",
     "text": [
      "C:\\Users\\SHEBL\\AppData\\Local\\Temp\\ipykernel_13884\\3853260778.py:1: FutureWarning: In a future version of pandas all arguments of DataFrame.drop except for the argument 'labels' will be keyword-only.\n",
      "  df = df.drop('Level', 1)\n",
      "C:\\Users\\SHEBL\\AppData\\Local\\Temp\\ipykernel_13884\\3853260778.py:2: FutureWarning: In a future version of pandas all arguments of DataFrame.drop except for the argument 'labels' will be keyword-only.\n",
      "  df = df.drop('Compound', 1)\n",
      "C:\\Users\\SHEBL\\AppData\\Local\\Temp\\ipykernel_13884\\3853260778.py:3: FutureWarning: In a future version of pandas all arguments of DataFrame.drop except for the argument 'labels' will be keyword-only.\n",
      "  df = df.drop('Delivery_Date', 1)\n"
     ]
    }
   ],
   "source": [
    "df = df.drop('Level', 1)\n",
    "df = df.drop('Compound', 1)\n",
    "df = df.drop('Delivery_Date', 1)"
   ]
  },
  {
   "cell_type": "markdown",
   "id": "b563c8a4",
   "metadata": {},
   "source": [
    "## The Model"
   ]
  },
  {
   "cell_type": "code",
   "execution_count": 21,
   "id": "9c315625",
   "metadata": {},
   "outputs": [],
   "source": [
    "df = df[['Type', 'Bathrooms', 'Area', 'Furnished', 'Payment_Option', 'Delivery_Term', 'City', 'Price']]"
   ]
  },
  {
   "cell_type": "code",
   "execution_count": 22,
   "id": "1ab3083b",
   "metadata": {},
   "outputs": [],
   "source": [
    "X = df.iloc[:, 0:7].values"
   ]
  },
  {
   "cell_type": "code",
   "execution_count": 23,
   "id": "723127f1",
   "metadata": {},
   "outputs": [],
   "source": [
    "y = df.iloc[:, 7].values"
   ]
  },
  {
   "cell_type": "markdown",
   "id": "f5b8e01a",
   "metadata": {},
   "source": [
    "#### Using LabelEncoder to transform categorical variables into continuous variables "
   ]
  },
  {
   "cell_type": "code",
   "execution_count": 24,
   "id": "2b74e217",
   "metadata": {},
   "outputs": [],
   "source": [
    "from sklearn.preprocessing import LabelEncoder"
   ]
  },
  {
   "cell_type": "code",
   "execution_count": 25,
   "id": "ebc72f22",
   "metadata": {},
   "outputs": [],
   "source": [
    "label_encoder_Type = LabelEncoder()\n",
    "label_encoder_Furnished = LabelEncoder()\n",
    "label_encoder_Payment_Option = LabelEncoder()\n",
    "label_encoder_Delivery_Term = LabelEncoder()\n",
    "label_encoder_City = LabelEncoder()"
   ]
  },
  {
   "cell_type": "code",
   "execution_count": 26,
   "id": "395f1954",
   "metadata": {},
   "outputs": [],
   "source": [
    "X[:,0] = label_encoder_Type.fit_transform(X[:,0])\n",
    "X[:,3] = label_encoder_Furnished.fit_transform(X[:,3])\n",
    "X[:,4] = label_encoder_Payment_Option.fit_transform(X[:,4])\n",
    "X[:,5] = label_encoder_Delivery_Term.fit_transform(X[:,5])\n",
    "X[:,6] = label_encoder_City.fit_transform(X[:,6])"
   ]
  },
  {
   "cell_type": "markdown",
   "id": "f4a66f68",
   "metadata": {},
   "source": [
    "#### Applying StandardScaler in our data to put the data in the same size setting"
   ]
  },
  {
   "cell_type": "code",
   "execution_count": 27,
   "id": "aed1fd3a",
   "metadata": {},
   "outputs": [],
   "source": [
    "from sklearn.preprocessing import StandardScaler\n",
    "scaler = StandardScaler()\n",
    "X_standard = scaler.fit_transform(X)\n",
    "y_standard = scaler.fit_transform(y.reshape(-1,1))"
   ]
  },
  {
   "cell_type": "markdown",
   "id": "75d06405",
   "metadata": {},
   "source": [
    "#### Transforming Data into Train e Test, here we will use 30% of our data to test the machine learning models."
   ]
  },
  {
   "cell_type": "code",
   "execution_count": 28,
   "id": "d8acafea",
   "metadata": {},
   "outputs": [],
   "source": [
    "from sklearn.model_selection import train_test_split"
   ]
  },
  {
   "cell_type": "code",
   "execution_count": 29,
   "id": "a5c0904e",
   "metadata": {},
   "outputs": [],
   "source": [
    "X_train, X_test, y_train, y_test = train_test_split(X_standard, y_standard, test_size = 0.3, random_state = 0)"
   ]
  },
  {
   "cell_type": "code",
   "execution_count": 30,
   "id": "4c46fa55",
   "metadata": {},
   "outputs": [
    {
     "data": {
      "text/plain": [
       "((19126, 7), (19126, 1))"
      ]
     },
     "execution_count": 30,
     "metadata": {},
     "output_type": "execute_result"
    }
   ],
   "source": [
    "X_train.shape, y_train.shape"
   ]
  },
  {
   "cell_type": "code",
   "execution_count": 31,
   "id": "0df813aa",
   "metadata": {},
   "outputs": [
    {
     "data": {
      "text/plain": [
       "((8198, 7), (8198, 1))"
      ]
     },
     "execution_count": 31,
     "metadata": {},
     "output_type": "execute_result"
    }
   ],
   "source": [
    "X_test.shape, y_test.shape"
   ]
  },
  {
   "cell_type": "markdown",
   "id": "6bab085e",
   "metadata": {},
   "source": [
    "#### Linear Regression"
   ]
  },
  {
   "cell_type": "code",
   "execution_count": 32,
   "id": "b831530b",
   "metadata": {},
   "outputs": [],
   "source": [
    "from sklearn.linear_model import LinearRegression\n",
    "lr_model = LinearRegression()"
   ]
  },
  {
   "cell_type": "code",
   "execution_count": 33,
   "id": "124dec7b",
   "metadata": {},
   "outputs": [
    {
     "data": {
      "text/plain": [
       "LinearRegression()"
      ]
     },
     "execution_count": 33,
     "metadata": {},
     "output_type": "execute_result"
    }
   ],
   "source": [
    "lr_model.fit(X_train, y_train)"
   ]
  },
  {
   "cell_type": "markdown",
   "id": "4e9f35e2",
   "metadata": {},
   "source": [
    "#### Checking the intercept"
   ]
  },
  {
   "cell_type": "code",
   "execution_count": 34,
   "id": "4d99451e",
   "metadata": {},
   "outputs": [],
   "source": [
    "lr_normal_intercept = lr_model.intercept_"
   ]
  },
  {
   "cell_type": "code",
   "execution_count": 35,
   "id": "41aa830c",
   "metadata": {},
   "outputs": [
    {
     "data": {
      "text/plain": [
       "array([-0.00475882])"
      ]
     },
     "execution_count": 35,
     "metadata": {},
     "output_type": "execute_result"
    }
   ],
   "source": [
    "lr_normal_intercept"
   ]
  },
  {
   "cell_type": "code",
   "execution_count": 36,
   "id": "f00e49a5",
   "metadata": {},
   "outputs": [],
   "source": [
    "lr_normal_coef = lr_model.coef_"
   ]
  },
  {
   "cell_type": "code",
   "execution_count": 37,
   "id": "e2ebdbe9",
   "metadata": {},
   "outputs": [
    {
     "data": {
      "text/plain": [
       "array([[ 0.027267  ,  0.34687679,  0.28743563,  0.05591601, -0.0541236 ,\n",
       "        -0.08011838,  0.03575192]])"
      ]
     },
     "execution_count": 37,
     "metadata": {},
     "output_type": "execute_result"
    }
   ],
   "source": [
    "lr_normal_coef"
   ]
  },
  {
   "cell_type": "code",
   "execution_count": 38,
   "id": "53bc0ef3",
   "metadata": {},
   "outputs": [],
   "source": [
    "lr_normal_score_train = lr_model.score(X_train, y_train)"
   ]
  },
  {
   "cell_type": "code",
   "execution_count": 39,
   "id": "f460286f",
   "metadata": {},
   "outputs": [
    {
     "data": {
      "text/plain": [
       "0.4034873150843856"
      ]
     },
     "execution_count": 39,
     "metadata": {},
     "output_type": "execute_result"
    }
   ],
   "source": [
    "lr_normal_score_train"
   ]
  },
  {
   "cell_type": "code",
   "execution_count": 40,
   "id": "4adfb872",
   "metadata": {},
   "outputs": [],
   "source": [
    "lr_normal_score_test = lr_model.score(X_test, y_test)"
   ]
  },
  {
   "cell_type": "code",
   "execution_count": 41,
   "id": "93afd364",
   "metadata": {},
   "outputs": [
    {
     "data": {
      "text/plain": [
       "0.3282858883706822"
      ]
     },
     "execution_count": 41,
     "metadata": {},
     "output_type": "execute_result"
    }
   ],
   "source": [
    "lr_normal_score_test"
   ]
  },
  {
   "cell_type": "code",
   "execution_count": 42,
   "id": "0e90ea80",
   "metadata": {},
   "outputs": [],
   "source": [
    "previsoes = lr_model.predict(X_test)"
   ]
  },
  {
   "cell_type": "code",
   "execution_count": 43,
   "id": "02a7ae3a",
   "metadata": {},
   "outputs": [],
   "source": [
    "mse_lr_normal = mean_absolute_error(y_test, previsoes)"
   ]
  },
  {
   "cell_type": "code",
   "execution_count": 44,
   "id": "52faf9c1",
   "metadata": {},
   "outputs": [
    {
     "data": {
      "text/plain": [
       "0.40216272314600626"
      ]
     },
     "execution_count": 44,
     "metadata": {},
     "output_type": "execute_result"
    }
   ],
   "source": [
    "mse_lr_normal"
   ]
  },
  {
   "cell_type": "code",
   "execution_count": 45,
   "id": "3fbc6317",
   "metadata": {},
   "outputs": [],
   "source": [
    "rmse_lr_normal = np.sqrt(mean_squared_error(y_test, previsoes))"
   ]
  },
  {
   "cell_type": "code",
   "execution_count": 46,
   "id": "bfe705c3",
   "metadata": {},
   "outputs": [
    {
     "data": {
      "text/plain": [
       "0.8882163943235476"
      ]
     },
     "execution_count": 46,
     "metadata": {},
     "output_type": "execute_result"
    }
   ],
   "source": [
    "rmse_lr_normal"
   ]
  },
  {
   "cell_type": "markdown",
   "id": "e9b3fe02",
   "metadata": {},
   "source": [
    "### Polynomial Regression"
   ]
  },
  {
   "cell_type": "code",
   "execution_count": 47,
   "id": "27fb117a",
   "metadata": {},
   "outputs": [],
   "source": [
    "from sklearn.preprocessing import PolynomialFeatures"
   ]
  },
  {
   "cell_type": "code",
   "execution_count": 48,
   "id": "986b983c",
   "metadata": {},
   "outputs": [],
   "source": [
    "poly = PolynomialFeatures(degree = 2)"
   ]
  },
  {
   "cell_type": "code",
   "execution_count": 49,
   "id": "31a86bc0",
   "metadata": {},
   "outputs": [],
   "source": [
    "X_poly_train = poly.fit_transform(X_train)"
   ]
  },
  {
   "cell_type": "code",
   "execution_count": 50,
   "id": "168c0a90",
   "metadata": {},
   "outputs": [],
   "source": [
    "X_poly_test = poly.transform(X_test)"
   ]
  },
  {
   "cell_type": "code",
   "execution_count": 51,
   "id": "16e8624a",
   "metadata": {},
   "outputs": [
    {
     "data": {
      "text/plain": [
       "((19126, 36), (8198, 36))"
      ]
     },
     "execution_count": 51,
     "metadata": {},
     "output_type": "execute_result"
    }
   ],
   "source": [
    "X_poly_train.shape, X_poly_test.shape"
   ]
  },
  {
   "cell_type": "code",
   "execution_count": 52,
   "id": "118b0dc7",
   "metadata": {},
   "outputs": [],
   "source": [
    "lr_poly = LinearRegression()"
   ]
  },
  {
   "cell_type": "code",
   "execution_count": 53,
   "id": "ba446d2b",
   "metadata": {},
   "outputs": [
    {
     "data": {
      "text/plain": [
       "LinearRegression()"
      ]
     },
     "execution_count": 53,
     "metadata": {},
     "output_type": "execute_result"
    }
   ],
   "source": [
    "lr_poly.fit(X_poly_train, y_train)"
   ]
  },
  {
   "cell_type": "code",
   "execution_count": 54,
   "id": "5a406d31",
   "metadata": {},
   "outputs": [],
   "source": [
    "lr_poly_normal_score_train = lr_poly.score(X_poly_train, y_train)"
   ]
  },
  {
   "cell_type": "code",
   "execution_count": 55,
   "id": "e03ba2b4",
   "metadata": {},
   "outputs": [
    {
     "data": {
      "text/plain": [
       "0.45934608615843897"
      ]
     },
     "execution_count": 55,
     "metadata": {},
     "output_type": "execute_result"
    }
   ],
   "source": [
    "lr_poly_normal_score_train"
   ]
  },
  {
   "cell_type": "code",
   "execution_count": 56,
   "id": "453495aa",
   "metadata": {},
   "outputs": [],
   "source": [
    "lr_poly_normal_score_test = lr_poly.score(X_poly_test, y_test)"
   ]
  },
  {
   "cell_type": "code",
   "execution_count": 57,
   "id": "d78a3882",
   "metadata": {},
   "outputs": [
    {
     "data": {
      "text/plain": [
       "0.3770984307992393"
      ]
     },
     "execution_count": 57,
     "metadata": {},
     "output_type": "execute_result"
    }
   ],
   "source": [
    "lr_poly_normal_score_test"
   ]
  },
  {
   "cell_type": "code",
   "execution_count": 58,
   "id": "20fe893b",
   "metadata": {},
   "outputs": [],
   "source": [
    "previsoes = lr_poly.predict(X_poly_test)"
   ]
  },
  {
   "cell_type": "code",
   "execution_count": 59,
   "id": "659ac16b",
   "metadata": {},
   "outputs": [],
   "source": [
    "mse_poly_normal = mean_absolute_error(y_test, previsoes)"
   ]
  },
  {
   "cell_type": "code",
   "execution_count": 60,
   "id": "3fd8a44d",
   "metadata": {},
   "outputs": [
    {
     "data": {
      "text/plain": [
       "0.3730161014156391"
      ]
     },
     "execution_count": 60,
     "metadata": {},
     "output_type": "execute_result"
    }
   ],
   "source": [
    "mse_poly_normal"
   ]
  },
  {
   "cell_type": "code",
   "execution_count": 61,
   "id": "219dc1e7",
   "metadata": {},
   "outputs": [],
   "source": [
    "rmse_poly_normal = np.sqrt(mean_squared_error(y_test, previsoes))"
   ]
  },
  {
   "cell_type": "code",
   "execution_count": 62,
   "id": "a2239749",
   "metadata": {},
   "outputs": [
    {
     "data": {
      "text/plain": [
       "0.8553350349185941"
      ]
     },
     "execution_count": 62,
     "metadata": {},
     "output_type": "execute_result"
    }
   ],
   "source": [
    "rmse_poly_normal"
   ]
  },
  {
   "cell_type": "markdown",
   "id": "0fa67d6d",
   "metadata": {},
   "source": [
    "### Decision Tree"
   ]
  },
  {
   "cell_type": "code",
   "execution_count": 63,
   "id": "90a53ea8",
   "metadata": {},
   "outputs": [],
   "source": [
    "from sklearn.tree import DecisionTreeRegressor\n",
    "from sklearn.model_selection import GridSearchCV"
   ]
  },
  {
   "cell_type": "markdown",
   "id": "0b3f1829",
   "metadata": {},
   "source": [
    "#### Applying GridSearch"
   ]
  },
  {
   "cell_type": "markdown",
   "id": "99c74632",
   "metadata": {},
   "source": [
    "##### Here we are applying GridSearch to check which are the best metrics to use."
   ]
  },
  {
   "cell_type": "code",
   "execution_count": 64,
   "id": "94b193ce",
   "metadata": {},
   "outputs": [],
   "source": [
    "min_split = np.array([2, 3, 4, 5, 6, 7])\n",
    "max_nvl = np.array([3, 4, 5, 6, 7, 9, 11])\n",
    "alg = ['squared_error', 'friedman_mse', 'absolute_error', 'poisson']\n",
    "values_grid = {'min_samples_split': min_split, 'max_depth': max_nvl, 'criterion': alg}"
   ]
  },
  {
   "cell_type": "code",
   "execution_count": 65,
   "id": "4ed92063",
   "metadata": {},
   "outputs": [],
   "source": [
    "model = DecisionTreeRegressor()"
   ]
  },
  {
   "cell_type": "code",
   "execution_count": 66,
   "id": "a1f00e87",
   "metadata": {},
   "outputs": [],
   "source": [
    "gridDecisionTree = GridSearchCV(estimator = model, param_grid = values_grid, cv = 5)"
   ]
  },
  {
   "cell_type": "code",
   "execution_count": 68,
   "id": "22160adc",
   "metadata": {},
   "outputs": [
    {
     "name": "stderr",
     "output_type": "stream",
     "text": [
      "C:\\Users\\SHEBL\\anaconda3\\lib\\site-packages\\sklearn\\model_selection\\_validation.py:372: FitFailedWarning: \n",
      "210 fits failed out of a total of 840.\n",
      "The score on these train-test partitions for these parameters will be set to nan.\n",
      "If these failures are not expected, you can try to debug them by setting error_score='raise'.\n",
      "\n",
      "Below are more details about the failures:\n",
      "--------------------------------------------------------------------------------\n",
      "210 fits failed with the following error:\n",
      "Traceback (most recent call last):\n",
      "  File \"C:\\Users\\SHEBL\\anaconda3\\lib\\site-packages\\sklearn\\model_selection\\_validation.py\", line 680, in _fit_and_score\n",
      "    estimator.fit(X_train, y_train, **fit_params)\n",
      "  File \"C:\\Users\\SHEBL\\anaconda3\\lib\\site-packages\\sklearn\\tree\\_classes.py\", line 1315, in fit\n",
      "    super().fit(\n",
      "  File \"C:\\Users\\SHEBL\\anaconda3\\lib\\site-packages\\sklearn\\tree\\_classes.py\", line 178, in fit\n",
      "    raise ValueError(\n",
      "ValueError: Some value(s) of y are negative which is not allowed for Poisson regression.\n",
      "\n",
      "  warnings.warn(some_fits_failed_message, FitFailedWarning)\n",
      "C:\\Users\\SHEBL\\anaconda3\\lib\\site-packages\\sklearn\\model_selection\\_search.py:969: UserWarning: One or more of the test scores are non-finite: [0.39598045 0.39598045 0.39598045 0.39598045 0.39598045 0.39598045\n",
      " 0.44909124 0.44909124 0.44909124 0.44909124 0.44909124 0.44909124\n",
      " 0.46434419 0.46434419 0.46434419 0.46434419 0.46434419 0.46434419\n",
      " 0.48337074 0.48337074 0.4835315  0.4835315  0.4835315  0.4835315\n",
      " 0.46777643 0.47113071 0.47161701 0.47158371 0.47151889 0.47955839\n",
      " 0.43788177 0.45725973 0.4499146  0.44879536 0.44972535 0.45721058\n",
      " 0.4114881  0.42788683 0.42095541 0.41872665 0.42068821 0.43171121\n",
      " 0.39598045 0.39598045 0.39598045 0.39598045 0.39598045 0.39598045\n",
      " 0.44909124 0.44909124 0.44909124 0.44909124 0.44909124 0.44909124\n",
      " 0.46434419 0.46434419 0.46434419 0.46434419 0.46434419 0.46434419\n",
      " 0.48337074 0.48337074 0.4835315  0.4835315  0.4835315  0.4835315\n",
      " 0.46777643 0.47142295 0.47158371 0.47125816 0.47181113 0.47988394\n",
      " 0.44909372 0.45772317 0.44889617 0.44943044 0.44993557 0.45639829\n",
      " 0.41219352 0.42770149 0.42118337 0.41729911 0.42124359 0.43151755\n",
      " 0.40078451 0.40078451 0.40078451 0.40078451 0.40078451 0.40078451\n",
      " 0.43983302 0.43983302 0.43983747 0.43983747 0.43983302 0.43983302\n",
      " 0.47323143 0.47323167 0.4732337  0.4732294  0.47323143 0.47323143\n",
      " 0.48165546 0.48167259 0.48165291 0.48170525 0.4816487  0.48158483\n",
      " 0.48870637 0.49087723 0.49053516 0.49048126 0.48658027 0.48666513\n",
      " 0.46194665 0.4734987  0.49813549 0.50244622 0.49397504 0.49329365\n",
      " 0.4186162  0.45872651 0.43880001 0.46695777 0.4644294  0.4706821\n",
      "        nan        nan        nan        nan        nan        nan\n",
      "        nan        nan        nan        nan        nan        nan\n",
      "        nan        nan        nan        nan        nan        nan\n",
      "        nan        nan        nan        nan        nan        nan\n",
      "        nan        nan        nan        nan        nan        nan\n",
      "        nan        nan        nan        nan        nan        nan\n",
      "        nan        nan        nan        nan        nan        nan]\n",
      "  warnings.warn(\n"
     ]
    },
    {
     "data": {
      "text/plain": [
       "GridSearchCV(cv=5, estimator=DecisionTreeRegressor(),\n",
       "             param_grid={'criterion': ['squared_error', 'friedman_mse',\n",
       "                                       'absolute_error', 'poisson'],\n",
       "                         'max_depth': array([ 3,  4,  5,  6,  7,  9, 11]),\n",
       "                         'min_samples_split': array([2, 3, 4, 5, 6, 7])})"
      ]
     },
     "execution_count": 68,
     "metadata": {},
     "output_type": "execute_result"
    }
   ],
   "source": [
    "gridDecisionTree.fit(X_train, y_train)"
   ]
  },
  {
   "cell_type": "code",
   "execution_count": 67,
   "id": "8003328a",
   "metadata": {
    "scrolled": true
   },
   "outputs": [
    {
     "ename": "AttributeError",
     "evalue": "'GridSearchCV' object has no attribute 'best_estimator_'",
     "output_type": "error",
     "traceback": [
      "\u001b[1;31m---------------------------------------------------------------------------\u001b[0m",
      "\u001b[1;31mAttributeError\u001b[0m                            Traceback (most recent call last)",
      "Input \u001b[1;32mIn [67]\u001b[0m, in \u001b[0;36m<cell line: 1>\u001b[1;34m()\u001b[0m\n\u001b[1;32m----> 1\u001b[0m \u001b[38;5;28mprint\u001b[39m(\u001b[38;5;124m'\u001b[39m\u001b[38;5;124mMín Split: \u001b[39m\u001b[38;5;124m'\u001b[39m, \u001b[43mgridDecisionTree\u001b[49m\u001b[38;5;241;43m.\u001b[39;49m\u001b[43mbest_estimator_\u001b[49m\u001b[38;5;241m.\u001b[39mmin_samples_split)\n\u001b[0;32m      2\u001b[0m \u001b[38;5;28mprint\u001b[39m(\u001b[38;5;124m'\u001b[39m\u001b[38;5;124mMax Nvl: \u001b[39m\u001b[38;5;124m'\u001b[39m, gridDecisionTree\u001b[38;5;241m.\u001b[39mbest_estimator_\u001b[38;5;241m.\u001b[39mmax_depth)\n\u001b[0;32m      3\u001b[0m \u001b[38;5;28mprint\u001b[39m(\u001b[38;5;124m'\u001b[39m\u001b[38;5;124mAlgorithm: \u001b[39m\u001b[38;5;124m'\u001b[39m, gridDecisionTree\u001b[38;5;241m.\u001b[39mbest_estimator_\u001b[38;5;241m.\u001b[39mcriterion)\n",
      "\u001b[1;31mAttributeError\u001b[0m: 'GridSearchCV' object has no attribute 'best_estimator_'"
     ]
    }
   ],
   "source": [
    "print('Mín Split: ', gridDecisionTree.best_estimator_.min_samples_split)\n",
    "print('Max Nvl: ', gridDecisionTree.best_estimator_.max_depth)\n",
    "print('Algorithm: ', gridDecisionTree.best_estimator_.criterion)\n",
    "print('Score: ', gridDecisionTree.best_score_)"
   ]
  },
  {
   "cell_type": "markdown",
   "id": "23e50e0d",
   "metadata": {},
   "source": [
    "### Applying Decision Tree"
   ]
  },
  {
   "cell_type": "code",
   "execution_count": 68,
   "id": "26866c99",
   "metadata": {},
   "outputs": [],
   "source": [
    "decision_tree = DecisionTreeRegressor(min_samples_split = 6, max_depth = 7, criterion = 'absolute_error')"
   ]
  },
  {
   "cell_type": "code",
   "execution_count": 69,
   "id": "a6598214",
   "metadata": {},
   "outputs": [
    {
     "data": {
      "text/plain": [
       "DecisionTreeRegressor(criterion='absolute_error', max_depth=7,\n",
       "                      min_samples_split=6)"
      ]
     },
     "execution_count": 69,
     "metadata": {},
     "output_type": "execute_result"
    }
   ],
   "source": [
    "decision_tree.fit(X_train, y_train)"
   ]
  },
  {
   "cell_type": "code",
   "execution_count": 70,
   "id": "8a77a453",
   "metadata": {},
   "outputs": [
    {
     "data": {
      "text/plain": [
       "DecisionTreeRegressor(criterion='absolute_error', max_depth=7,\n",
       "                      min_samples_split=6)"
      ]
     },
     "execution_count": 70,
     "metadata": {},
     "output_type": "execute_result"
    }
   ],
   "source": [
    "DecisionTreeRegressor(criterion='absolute_error', max_depth=7, min_samples_split=6)"
   ]
  },
  {
   "cell_type": "code",
   "execution_count": 71,
   "id": "a84f249a",
   "metadata": {},
   "outputs": [],
   "source": [
    "lr_normal_decision_tree = decision_tree.score(X_train, y_train)"
   ]
  },
  {
   "cell_type": "code",
   "execution_count": 72,
   "id": "2cc1e6c3",
   "metadata": {},
   "outputs": [
    {
     "data": {
      "text/plain": [
       "0.5489201068743494"
      ]
     },
     "execution_count": 72,
     "metadata": {},
     "output_type": "execute_result"
    }
   ],
   "source": [
    "lr_normal_decision_tree"
   ]
  },
  {
   "cell_type": "code",
   "execution_count": 73,
   "id": "4529cea8",
   "metadata": {},
   "outputs": [],
   "source": [
    "lr_normal_decision_tree_test = decision_tree.score(X_test, y_test)"
   ]
  },
  {
   "cell_type": "code",
   "execution_count": 74,
   "id": "2b032cbb",
   "metadata": {},
   "outputs": [
    {
     "data": {
      "text/plain": [
       "0.4110565698076156"
      ]
     },
     "execution_count": 74,
     "metadata": {},
     "output_type": "execute_result"
    }
   ],
   "source": [
    "lr_normal_decision_tree_test"
   ]
  },
  {
   "cell_type": "markdown",
   "id": "b22f9a5c",
   "metadata": {},
   "source": [
    "##### Checking for Models errors"
   ]
  },
  {
   "cell_type": "code",
   "execution_count": 75,
   "id": "a7f3dae1",
   "metadata": {},
   "outputs": [],
   "source": [
    "previsoes = decision_tree.predict(X_test)"
   ]
  },
  {
   "cell_type": "code",
   "execution_count": 76,
   "id": "a7f9537d",
   "metadata": {},
   "outputs": [],
   "source": [
    "mse_lr_normal_decision_tree  = mean_absolute_error(y_test, previsoes)"
   ]
  },
  {
   "cell_type": "code",
   "execution_count": 77,
   "id": "83d27449",
   "metadata": {},
   "outputs": [
    {
     "data": {
      "text/plain": [
       "0.3360878631251045"
      ]
     },
     "execution_count": 77,
     "metadata": {},
     "output_type": "execute_result"
    }
   ],
   "source": [
    "mse_lr_normal_decision_tree"
   ]
  },
  {
   "cell_type": "code",
   "execution_count": 78,
   "id": "85b1b9ba",
   "metadata": {},
   "outputs": [],
   "source": [
    "rmse_lr_normal_decision_tree = np.sqrt(mean_squared_error(y_test, previsoes))"
   ]
  },
  {
   "cell_type": "code",
   "execution_count": 79,
   "id": "88227048",
   "metadata": {},
   "outputs": [
    {
     "data": {
      "text/plain": [
       "0.831693561755134"
      ]
     },
     "execution_count": 79,
     "metadata": {},
     "output_type": "execute_result"
    }
   ],
   "source": [
    "rmse_lr_normal_decision_tree"
   ]
  },
  {
   "cell_type": "markdown",
   "id": "541ce958",
   "metadata": {},
   "source": [
    "### Applay Random Forest "
   ]
  },
  {
   "cell_type": "code",
   "execution_count": 80,
   "id": "488e199d",
   "metadata": {},
   "outputs": [],
   "source": [
    "from sklearn.ensemble import RandomForestRegressor\n",
    "regressor_rf = RandomForestRegressor(n_estimators = 100)"
   ]
  },
  {
   "cell_type": "code",
   "execution_count": 81,
   "id": "d31b9cd4",
   "metadata": {},
   "outputs": [
    {
     "data": {
      "text/plain": [
       "RandomForestRegressor()"
      ]
     },
     "execution_count": 81,
     "metadata": {},
     "output_type": "execute_result"
    }
   ],
   "source": [
    "regressor_rf.fit(X_train, y_train.ravel())"
   ]
  },
  {
   "cell_type": "code",
   "execution_count": 82,
   "id": "8318cefa",
   "metadata": {},
   "outputs": [],
   "source": [
    "lr_normal_rf = regressor_rf.score(X_train, y_train)"
   ]
  },
  {
   "cell_type": "code",
   "execution_count": 83,
   "id": "061a1ffa",
   "metadata": {},
   "outputs": [
    {
     "data": {
      "text/plain": [
       "0.8993015741103402"
      ]
     },
     "execution_count": 83,
     "metadata": {},
     "output_type": "execute_result"
    }
   ],
   "source": [
    "lr_normal_rf"
   ]
  },
  {
   "cell_type": "code",
   "execution_count": 84,
   "id": "d703f571",
   "metadata": {},
   "outputs": [],
   "source": [
    "lr_normal_rf_test = regressor_rf.score(X_test, y_test)"
   ]
  },
  {
   "cell_type": "code",
   "execution_count": 85,
   "id": "c4fd5618",
   "metadata": {},
   "outputs": [
    {
     "data": {
      "text/plain": [
       "0.4692319355740294"
      ]
     },
     "execution_count": 85,
     "metadata": {},
     "output_type": "execute_result"
    }
   ],
   "source": [
    "lr_normal_rf_test"
   ]
  },
  {
   "cell_type": "code",
   "execution_count": 86,
   "id": "71686110",
   "metadata": {},
   "outputs": [],
   "source": [
    "import joblib"
   ]
  },
  {
   "cell_type": "code",
   "execution_count": 87,
   "id": "b0229a9a",
   "metadata": {},
   "outputs": [
    {
     "data": {
      "text/plain": [
       "['./../server/random_forest_model.pkl']"
      ]
     },
     "execution_count": 87,
     "metadata": {},
     "output_type": "execute_result"
    }
   ],
   "source": [
    "joblib.dump(regressor_rf, './../server/random_forest_model.pkl')"
   ]
  },
  {
   "cell_type": "markdown",
   "id": "1b5fc934",
   "metadata": {},
   "source": [
    "##### Check model errors"
   ]
  },
  {
   "cell_type": "code",
   "execution_count": 98,
   "id": "b563d52b",
   "metadata": {},
   "outputs": [],
   "source": [
    "previsoes = regressor_rf.predict(X_test)"
   ]
  },
  {
   "cell_type": "code",
   "execution_count": 99,
   "id": "9899198b",
   "metadata": {},
   "outputs": [],
   "source": [
    "mse_lr_normal_rf  = mean_absolute_error(y_test, previsoes)"
   ]
  },
  {
   "cell_type": "code",
   "execution_count": 100,
   "id": "0e08433e",
   "metadata": {},
   "outputs": [
    {
     "data": {
      "text/plain": [
       "0.2978338543577227"
      ]
     },
     "execution_count": 100,
     "metadata": {},
     "output_type": "execute_result"
    }
   ],
   "source": [
    "mse_lr_normal_rf"
   ]
  },
  {
   "cell_type": "code",
   "execution_count": 101,
   "id": "71b1a7b8",
   "metadata": {},
   "outputs": [],
   "source": [
    "rmse_lr_normal_rf = np.sqrt(mean_squared_error(y_test, previsoes))"
   ]
  },
  {
   "cell_type": "code",
   "execution_count": 102,
   "id": "30f18f75",
   "metadata": {},
   "outputs": [
    {
     "data": {
      "text/plain": [
       "0.7944800263451025"
      ]
     },
     "execution_count": 102,
     "metadata": {},
     "output_type": "execute_result"
    }
   ],
   "source": [
    "rmse_lr_normal_rf"
   ]
  },
  {
   "cell_type": "markdown",
   "id": "8741a47e",
   "metadata": {},
   "source": [
    "### Applay SVR (Support Vector Regression) Model"
   ]
  },
  {
   "cell_type": "code",
   "execution_count": 103,
   "id": "89be62ff",
   "metadata": {},
   "outputs": [],
   "source": [
    "from sklearn.svm import SVR"
   ]
  },
  {
   "cell_type": "code",
   "execution_count": 104,
   "id": "a5b61f22",
   "metadata": {},
   "outputs": [],
   "source": [
    "regressor_svr_linear = SVR(kernel = 'linear')"
   ]
  },
  {
   "cell_type": "code",
   "execution_count": 105,
   "id": "42bdf017",
   "metadata": {},
   "outputs": [
    {
     "data": {
      "text/plain": [
       "SVR(kernel='linear')"
      ]
     },
     "execution_count": 105,
     "metadata": {},
     "output_type": "execute_result"
    }
   ],
   "source": [
    "regressor_svr_linear.fit(X_train, y_train.ravel())"
   ]
  },
  {
   "cell_type": "code",
   "execution_count": 106,
   "id": "0de873ba",
   "metadata": {},
   "outputs": [],
   "source": [
    "standard_svm_linear = regressor_svr_linear.score(X_train, y_train)"
   ]
  },
  {
   "cell_type": "code",
   "execution_count": 107,
   "id": "27f2b85d",
   "metadata": {},
   "outputs": [
    {
     "data": {
      "text/plain": [
       "0.3537653438084627"
      ]
     },
     "execution_count": 107,
     "metadata": {},
     "output_type": "execute_result"
    }
   ],
   "source": [
    "standard_svm_linear"
   ]
  },
  {
   "cell_type": "code",
   "execution_count": 108,
   "id": "a2845014",
   "metadata": {},
   "outputs": [],
   "source": [
    "standard_svm_linear_test = regressor_svr_linear.score(X_test, y_test)"
   ]
  },
  {
   "cell_type": "code",
   "execution_count": 109,
   "id": "31862359",
   "metadata": {},
   "outputs": [
    {
     "data": {
      "text/plain": [
       "0.2776670441690402"
      ]
     },
     "execution_count": 109,
     "metadata": {},
     "output_type": "execute_result"
    }
   ],
   "source": [
    "standard_svm_linear_test"
   ]
  },
  {
   "cell_type": "code",
   "execution_count": 110,
   "id": "dfece8fe",
   "metadata": {},
   "outputs": [],
   "source": [
    "previsoes = regressor_svr_linear.predict(X_test)"
   ]
  },
  {
   "cell_type": "code",
   "execution_count": 111,
   "id": "399e4cf1",
   "metadata": {},
   "outputs": [],
   "source": [
    "y_test_inverse = scaler.inverse_transform(y_test)\n",
    "previsoes_inverse = scaler.inverse_transform(previsoes.reshape(-1,1))"
   ]
  },
  {
   "cell_type": "code",
   "execution_count": 112,
   "id": "df29b808",
   "metadata": {},
   "outputs": [],
   "source": [
    "mse_svr_linear_standard  = mean_absolute_error(y_test_inverse, previsoes_inverse)"
   ]
  },
  {
   "cell_type": "code",
   "execution_count": 113,
   "id": "48e5839c",
   "metadata": {},
   "outputs": [
    {
     "data": {
      "text/plain": [
       "2522361.789972317"
      ]
     },
     "execution_count": 113,
     "metadata": {},
     "output_type": "execute_result"
    }
   ],
   "source": [
    "mse_svr_linear_standard"
   ]
  },
  {
   "cell_type": "code",
   "execution_count": 114,
   "id": "9b80a031",
   "metadata": {},
   "outputs": [],
   "source": [
    "rmse_svm_linear_standard = np.sqrt(mean_squared_error(y_test_inverse, previsoes_inverse))"
   ]
  },
  {
   "cell_type": "code",
   "execution_count": 115,
   "id": "18f68d8f",
   "metadata": {},
   "outputs": [
    {
     "data": {
      "text/plain": [
       "6232256.464464474"
      ]
     },
     "execution_count": 115,
     "metadata": {},
     "output_type": "execute_result"
    }
   ],
   "source": [
    "rmse_svm_linear_standard"
   ]
  },
  {
   "cell_type": "code",
   "execution_count": 116,
   "id": "6ddd36e8",
   "metadata": {},
   "outputs": [],
   "source": [
    "regressor_svr_poly = SVR(kernel = 'poly', degree = 3)"
   ]
  },
  {
   "cell_type": "code",
   "execution_count": 117,
   "id": "96345a9e",
   "metadata": {},
   "outputs": [
    {
     "data": {
      "text/plain": [
       "SVR(kernel='poly')"
      ]
     },
     "execution_count": 117,
     "metadata": {},
     "output_type": "execute_result"
    }
   ],
   "source": [
    "regressor_svr_poly.fit(X_train, y_train.ravel())"
   ]
  },
  {
   "cell_type": "code",
   "execution_count": 118,
   "id": "4cfeea73",
   "metadata": {},
   "outputs": [],
   "source": [
    "standard_svm_poly = regressor_svr_poly.score(X_train, y_train)"
   ]
  },
  {
   "cell_type": "code",
   "execution_count": 119,
   "id": "5e90b5a0",
   "metadata": {},
   "outputs": [
    {
     "data": {
      "text/plain": [
       "0.3721725128918453"
      ]
     },
     "execution_count": 119,
     "metadata": {},
     "output_type": "execute_result"
    }
   ],
   "source": [
    "standard_svm_poly"
   ]
  },
  {
   "cell_type": "code",
   "execution_count": 120,
   "id": "b5da1897",
   "metadata": {},
   "outputs": [],
   "source": [
    "standard_svm_poly_test = regressor_svr_poly.score(X_test, y_test)"
   ]
  },
  {
   "cell_type": "code",
   "execution_count": 121,
   "id": "0481266f",
   "metadata": {},
   "outputs": [
    {
     "data": {
      "text/plain": [
       "0.27308087732696207"
      ]
     },
     "execution_count": 121,
     "metadata": {},
     "output_type": "execute_result"
    }
   ],
   "source": [
    "standard_svm_poly_test"
   ]
  }
 ],
 "metadata": {
  "kernelspec": {
   "display_name": "Python 3 (ipykernel)",
   "language": "python",
   "name": "python3"
  },
  "language_info": {
   "codemirror_mode": {
    "name": "ipython",
    "version": 3
   },
   "file_extension": ".py",
   "mimetype": "text/x-python",
   "name": "python",
   "nbconvert_exporter": "python",
   "pygments_lexer": "ipython3",
   "version": "3.9.12"
  }
 },
 "nbformat": 4,
 "nbformat_minor": 5
}
